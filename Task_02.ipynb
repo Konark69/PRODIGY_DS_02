{
 "cells": [
  {
   "cell_type": "code",
   "execution_count": null,
   "id": "bab015f8",
   "metadata": {
    "vscode": {
     "languageId": "plaintext"
    }
   },
   "outputs": [],
   "source": [
    "import pandas as pd\n",
    "import matplotlib.pyplot as plt\n",
    "import seaborn as sns\n",
    "\n",
    "# Load the dataset\n",
    "df = pd.read_csv(\"titanic.csv\", encoding=\"ISO-8859-1\")\n",
    "df_clean = df.dropna()\n",
    "\n",
    "# Convert age to string if needed\n",
    "df_clean['Age'] = df_clean['Age'].astype(str)\n",
    "\n",
    "# Set style\n",
    "sns.set(style=\"whitegrid\")\n",
    "\n",
    "# 1. Sex distribution\n",
    "plt.figure(figsize=(6, 4))\n",
    "sns.countplot(data=df_clean, x='Sex', palette='Set2')\n",
    "plt.title('Sex Distribution')\n",
    "plt.show()\n",
    "\n",
    "# 2. Sex by Embarked\n",
    "plt.figure(figsize=(6, 4))\n",
    "sns.countplot(data=df_clean, x='Embarked', hue='Sex', palette='Set1')\n",
    "plt.title('Sex by Embarked')\n",
    "plt.show()\n",
    "\n",
    "# 3. Sex by Age Group\n",
    "plt.figure(figsize=(8, 4))\n",
    "sns.countplot(data=df_clean, x='Age', hue='Sex', palette='Set3')\n",
    "plt.title('Sex by Age Group')\n",
    "plt.show()\n",
    "\n",
    "# 4. Pclass vs. Fare (log scale)\n",
    "plt.figure(figsize=(6, 4))\n",
    "sns.scatterplot(data=df_clean, x='Pclass', y='Fare', hue='Sex')\n",
    "plt.yscale('log')\n",
    "plt.title('Pclass vs Fare by Sex')\n",
    "plt.show()\n"
   ]
  },
  {
   "cell_type": "code",
   "execution_count": null,
   "id": "3468d7e0",
   "metadata": {},
   "outputs": [],
   "source": []
  }
 ],
 "metadata": {
  "language_info": {
   "name": "python"
  }
 },
 "nbformat": 4,
 "nbformat_minor": 5
}
